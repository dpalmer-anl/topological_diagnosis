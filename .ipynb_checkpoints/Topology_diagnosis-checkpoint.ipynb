{
 "cells": [
  {
   "cell_type": "code",
   "execution_count": 9,
   "metadata": {},
   "outputs": [
    {
     "ename": "KeyError",
     "evalue": "'hamiltonian'",
     "output_type": "error",
     "traceback": [
      "\u001b[1;31m---------------------------------------------------------------------------\u001b[0m",
      "\u001b[1;31mKeyError\u001b[0m                                  Traceback (most recent call last)",
      "\u001b[1;32m<ipython-input-9-3cc835306f3a>\u001b[0m in \u001b[0;36m<module>\u001b[1;34m\u001b[0m\n\u001b[0;32m     13\u001b[0m \u001b[1;31m#get topology of Yaehmop output file structure\u001b[0m\u001b[1;33m\u001b[0m\u001b[1;33m\u001b[0m\u001b[1;33m\u001b[0m\u001b[0m\n\u001b[0;32m     14\u001b[0m \u001b[0moutput_yaehmop_filename\u001b[0m\u001b[1;33m=\u001b[0m\u001b[1;34m\"mp-47.OUT\"\u001b[0m\u001b[1;33m\u001b[0m\u001b[1;33m\u001b[0m\u001b[0m\n\u001b[1;32m---> 15\u001b[1;33m \u001b[0mc_\u001b[0m\u001b[1;33m,\u001b[0m\u001b[0mz2_\u001b[0m\u001b[1;33m=\u001b[0m \u001b[0mtim\u001b[0m\u001b[1;33m.\u001b[0m\u001b[0mget_topology\u001b[0m\u001b[1;33m(\u001b[0m\u001b[0moutput_yaehmop_filename\u001b[0m\u001b[1;33m)\u001b[0m\u001b[1;33m\u001b[0m\u001b[1;33m\u001b[0m\u001b[0m\n\u001b[0m\u001b[0;32m     16\u001b[0m \u001b[0mprint\u001b[0m\u001b[1;33m(\u001b[0m\u001b[0mc_\u001b[0m\u001b[1;33m)\u001b[0m\u001b[1;33m\u001b[0m\u001b[1;33m\u001b[0m\u001b[0m\n\u001b[0;32m     17\u001b[0m \u001b[0mprint\u001b[0m\u001b[1;33m(\u001b[0m\u001b[0mz2_\u001b[0m\u001b[1;33m)\u001b[0m\u001b[1;33m\u001b[0m\u001b[1;33m\u001b[0m\u001b[0m\n",
      "\u001b[1;32m~\\Documents\\argonne\\topology_interface\\topological_diagnosis\\topology_interface_main.py\u001b[0m in \u001b[0;36mget_topology\u001b[1;34m(ham_type, **kwargs)\u001b[0m\n\u001b[0;32m    388\u001b[0m         \u001b[1;32mreturn\u001b[0m \u001b[0mchern_\u001b[0m\u001b[1;33m,\u001b[0m \u001b[0mz2_\u001b[0m\u001b[1;33m\u001b[0m\u001b[1;33m\u001b[0m\u001b[0m\n\u001b[0;32m    389\u001b[0m \u001b[1;33m\u001b[0m\u001b[0m\n\u001b[1;32m--> 390\u001b[1;33m     \u001b[1;32mif\u001b[0m \u001b[0mdim\u001b[0m\u001b[1;33m==\u001b[0m\u001b[1;36m3\u001b[0m\u001b[1;33m:\u001b[0m\u001b[1;33m\u001b[0m\u001b[1;33m\u001b[0m\u001b[0m\n\u001b[0m\u001b[0;32m    391\u001b[0m         result = z2pack.volume.run(\n\u001b[0;32m    392\u001b[0m             \u001b[0msystem\u001b[0m\u001b[1;33m=\u001b[0m\u001b[0msystem\u001b[0m\u001b[1;33m,\u001b[0m\u001b[1;33m\u001b[0m\u001b[1;33m\u001b[0m\u001b[0m\n",
      "\u001b[1;31mKeyError\u001b[0m: 'hamiltonian'"
     ]
    }
   ],
   "source": [
    "import topology_interface_main as tim\n",
    "#import yaehmop_tools\n",
    "\n",
    "input_POSCAR=\"FILENAME\"\n",
    "\n",
    "# kpoints=tim.generate_kpoints(nkx=10,nky=10,nkz=10,max_kx=1,max_ky=1)\n",
    "\n",
    "# #unknown fxns\n",
    "# input_yaehmop_filename=yaehmop_tools.create_yaehmop_from_poscar(input_POSCAR,kpoints)\n",
    "# output_yaehmop_filename=yaehmop_tools.run_yaehmop(input_yaehmop_filename) #subprocess.call(\"bind \"+input_yaehmop_filname)\n",
    "\n",
    "\n",
    "#get topology of Yaehmop output file structure\n",
    "output_yaehmop_filename=\"mp-47.OUT\"\n",
    "c_,z2_= tim.get_topology(output_yaehmop_filename)\n",
    "print(c_)\n",
    "print(z2_)\n",
    "\n",
    "#get topology of Haldane model as a test, Haldane model results placed in Yaehmop like output file to test functions\n",
    "#Chern number should equal 1.0\n",
    "chern_, z2_ = get_topology(\"haldane_output.OUT\")\n",
    "print(\"chern number \",chern_)"
   ]
  },
  {
   "cell_type": "code",
   "execution_count": null,
   "metadata": {},
   "outputs": [],
   "source": []
  }
 ],
 "metadata": {
  "kernelspec": {
   "display_name": "Python 3",
   "language": "python",
   "name": "python3"
  },
  "language_info": {
   "codemirror_mode": {
    "name": "ipython",
    "version": 3
   },
   "file_extension": ".py",
   "mimetype": "text/x-python",
   "name": "python",
   "nbconvert_exporter": "python",
   "pygments_lexer": "ipython3",
   "version": "3.7.6"
  }
 },
 "nbformat": 4,
 "nbformat_minor": 4
}
