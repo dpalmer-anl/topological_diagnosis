{
 "cells": [
  {
   "cell_type": "code",
   "execution_count": null,
   "metadata": {},
   "outputs": [],
   "source": [
    "import topology_interface_main as tim\n",
    "import yaehmop_tools\n",
    "\n",
    "input_POSCAR=\"FILENAME\"\n",
    "\n",
    "#fxn is working\n",
    "kpoints=tim.generate_kpoints(nkx=10,nky=10,nkz=10,max_kx=1,max_ky=1)\n",
    "\n",
    "#unknown fxns\n",
    "input_yaehmop_filename=yaehmop_tools.create_yaehmop_from_poscar(input_POSCAR,kpoints)\n",
    "output_yaehmop_filename=yaehmop_tools.run_yaehmop(input_yaehmop_filename) #subprocess.call(\"bind \"+input_yaehmop_filname)\n",
    "\n",
    "#fxn is working\n",
    "c_,z2_= tim.get_topology(output_yaehmop_filename)\n",
    "print(c_)\n",
    "print(z2_)"
   ]
  }
 ],
 "metadata": {
  "kernelspec": {
   "display_name": "Python 3",
   "language": "python",
   "name": "python3"
  },
  "language_info": {
   "codemirror_mode": {
    "name": "ipython",
    "version": 3
   },
   "file_extension": ".py",
   "mimetype": "text/x-python",
   "name": "python",
   "nbconvert_exporter": "python",
   "pygments_lexer": "ipython3",
   "version": "3.7.6"
  }
 },
 "nbformat": 4,
 "nbformat_minor": 4
}
