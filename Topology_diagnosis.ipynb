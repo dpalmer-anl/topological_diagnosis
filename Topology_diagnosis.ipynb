{
 "cells": [
  {
   "cell_type": "code",
   "execution_count": 12,
   "metadata": {},
   "outputs": [],
   "source": [
    "import topology_interface_main as tim\n",
    "#import yaehmop_tools"
   ]
  },
  {
   "cell_type": "markdown",
   "metadata": {},
   "source": [
    "# Description of Interface Workflow"
   ]
  },
  {
   "cell_type": "raw",
   "metadata": {},
   "source": [
    "-Data from POSCAR used to create Yaehmop input file for extended Huckel calculation\n",
    "-Yaehmop input file is run, and Hamiltonian, overlap, and occupation are output as a function of k\n",
    "    *note Kpoints are automatically generated using tim.generate_k() to ensure kpoints are compatible with z2pack\n",
    "-Parser is used to read Hamiltonian, overlap matrix, and occupation into python\n",
    "-z2pack.hm.system is built from Hamiltonian, overlap matrix, and occupation\n",
    "    *works for 2D and 3D systems\n",
    "-z2pack runs calculations and outputs chern number z2 invariant of all surfaces in volume (just one number if system is 2D) "
   ]
  },
  {
   "cell_type": "markdown",
   "metadata": {},
   "source": [
    "# Verification of Interface using Haldane Model"
   ]
  },
  {
   "cell_type": "code",
   "execution_count": 9,
   "metadata": {},
   "outputs": [
    {
     "name": "stdout",
     "output_type": "stream",
     "text": [
      "Haldane Hamiltonian Results in a chern number of 1.0\n"
     ]
    },
    {
     "data": {
      "image/png": "[encoded data removed]",
      "text/plain": [
       "<IPython.core.display.Image object>"
      ]
     },
     "execution_count": 9,
     "metadata": {},
     "output_type": "execute_result"
    }
   ],
   "source": [
    "from IPython.display import Image\n",
    "print(\"Haldane Hamiltonian Results in a chern number of 1.0\")\n",
    "Image(filename=\"haldane_ham.png\")"
   ]
  },
  {
   "cell_type": "code",
   "execution_count": 10,
   "metadata": {},
   "outputs": [
    {
     "name": "stdout",
     "output_type": "stream",
     "text": [
      "\n",
      "+----------------------------------------------------------------------+\n",
      "|===================                                                   |\n",
      "|SURFACE CALCULATION                                                   |\n",
      "|===================                                                   |\n",
      "|starting at 2021-07-29 10:33:46,397                                   |\n",
      "|running Z2Pack version 2.1.1                                          |\n",
      "|                                                                      |\n",
      "|gap_tol:            0.3                                               |\n",
      "|init_result:        None                                              |\n",
      "|iterator:           range(10, 27)                                     |\n",
      "|load:               False                                             |\n",
      "|load_quiet:         True                                              |\n",
      "|min_neighbour_dist: 0.01                                              |\n",
      "|move_tol:           None                                              |\n",
      "|num_lines:          10                                                |\n",
      "|pos_tol:            None                                              |\n",
      "|save_file:          None                                              |\n",
      "|serializer:         auto                                              |\n",
      "|surface:            <function get_topology<...><lambda> at 0x0B23AC90>|\n",
      "|system:             <z2pack.hm.System object at 0x0C32BAD0>           |\n",
      "+----------------------------------------------------------------------+\n",
      "\n",
      "INFO: Adding lines required by 'num_lines'.\n",
      "INFO: Adding line at t = 0.0\n",
      "INFO:       Calculating line for N = 10\n",
      "INFO: Adding line at t = 0.1111111111111111\n",
      "INFO:       Calculating line for N = 10\n",
      "INFO: Adding line at t = 0.2222222222222222\n",
      "INFO:       Calculating line for N = 10\n",
      "INFO: Adding line at t = 0.3333333333333333\n",
      "INFO:       Calculating line for N = 10\n",
      "INFO: Adding line at t = 0.4444444444444444\n",
      "INFO:       Calculating line for N = 10\n",
      "INFO: Adding line at t = 0.5555555555555556\n",
      "INFO:       Calculating line for N = 10\n",
      "INFO: Adding line at t = 0.6666666666666666\n",
      "INFO:       Calculating line for N = 10\n",
      "INFO: Adding line at t = 0.7777777777777777\n",
      "INFO:       Calculating line for N = 10\n",
      "INFO: Adding line at t = 0.8888888888888888\n",
      "INFO:       Calculating line for N = 10\n",
      "INFO: Adding line at t = 1.0\n",
      "INFO:       Calculating line for N = 10\n",
      "INFO: Convergence criteria fulfilled for 7 of 9 neighbouring lines.\n",
      "INFO: Adding line at t = 0.6111111111111112\n",
      "INFO:       Calculating line for N = 10\n",
      "INFO: Adding line at t = 0.7222222222222221\n",
      "INFO:       Calculating line for N = 10\n",
      "INFO: Convergence criteria fulfilled for 9 of 11 neighbouring lines.\n",
      "INFO: Adding line at t = 0.5833333333333334\n",
      "INFO:       Calculating line for N = 10\n",
      "INFO: Adding line at t = 0.7499999999999999\n",
      "INFO:       Calculating line for N = 10\n",
      "INFO: Convergence criteria fulfilled for 11 of 13 neighbouring lines.\n",
      "INFO: Adding line at t = 0.5972222222222223\n",
      "INFO:       Calculating line for N = 10\n",
      "INFO: Adding line at t = 0.7361111111111109\n",
      "INFO:       Calculating line for N = 10\n",
      "INFO: Convergence criteria fulfilled for 13 of 15 neighbouring lines.\n",
      "WARNING: 'min_neighbour_dist' reached: cannot add line at t = 0.6041666666666667\n",
      "WARNING: 'min_neighbour_dist' reached: cannot add line at t = 0.7291666666666665\n",
      "\n",
      "+----------------------------------------------------------------------+\n",
      "|                   Calculation finished in 0h 0m 0s                   |\n",
      "+----------------------------------------------------------------------+\n",
      "\n",
      "+----------------------------------------------------------------------+\n",
      "|                         ==================                           |\n",
      "|                         CONVERGENCE REPORT                           |\n",
      "|                         ==================                           |\n",
      "|                                                                      |\n",
      "|                         Line Convergence                             |\n",
      "|                         ================                             |\n",
      "|                                                                      |\n",
      "|                             ForceFirstUpdate                         |\n",
      "|                             ----------------                         |\n",
      "|                             PASSED: 16 of 16                         |\n",
      "|                                                                      |\n",
      "|                         Surface Convergence                          |\n",
      "|                         ===================                          |\n",
      "|                                                                      |\n",
      "|                             GapCheck                                 |\n",
      "|                             --------                                 |\n",
      "|                             PASSED: 13 of 15                         |\n",
      "|                             FAILED: 2 of 15                          |\n",
      "+----------------------------------------------------------------------+\n",
      "\n",
      "chern number  1.0\n"
     ]
    }
   ],
   "source": [
    "#get topology of Haldane model as a test, Haldane model results placed in Yaehmop like output file to test functions\n",
    "chern_, z2_ = tim.get_topology(\"haldane_output.OUT\")\n",
    "print(\"chern number \",chern_)"
   ]
  },
  {
   "cell_type": "markdown",
   "metadata": {},
   "source": [
    "# Using interface to detect topologically non-trivial materials from POSCAR files"
   ]
  },
  {
   "cell_type": "code",
   "execution_count": 13,
   "metadata": {},
   "outputs": [
    {
     "ename": "AxisError",
     "evalue": "axis 1 is out of bounds for array of dimension 1",
     "output_type": "error",
     "traceback": [
      "\u001b[1;31m---------------------------------------------------------------------------\u001b[0m",
      "\u001b[1;31mAxisError\u001b[0m                                 Traceback (most recent call last)",
      "\u001b[1;32m<ipython-input-13-cf78b80675a4>\u001b[0m in \u001b[0;36m<module>\u001b[1;34m\u001b[0m\n\u001b[0;32m      9\u001b[0m \u001b[1;33m\u001b[0m\u001b[0m\n\u001b[0;32m     10\u001b[0m \u001b[0moutput_yaehmop_filename\u001b[0m\u001b[1;33m=\u001b[0m\u001b[1;34m\"mp-47.OUT\"\u001b[0m\u001b[1;33m\u001b[0m\u001b[1;33m\u001b[0m\u001b[0m\n\u001b[1;32m---> 11\u001b[1;33m \u001b[0mc_\u001b[0m\u001b[1;33m,\u001b[0m\u001b[0mz2_\u001b[0m\u001b[1;33m=\u001b[0m \u001b[0mtim\u001b[0m\u001b[1;33m.\u001b[0m\u001b[0mget_topology\u001b[0m\u001b[1;33m(\u001b[0m\u001b[0moutput_yaehmop_filename\u001b[0m\u001b[1;33m)\u001b[0m\u001b[1;33m\u001b[0m\u001b[1;33m\u001b[0m\u001b[0m\n\u001b[0m\u001b[0;32m     12\u001b[0m \u001b[0mprint\u001b[0m\u001b[1;33m(\u001b[0m\u001b[0mc_\u001b[0m\u001b[1;33m)\u001b[0m\u001b[1;33m\u001b[0m\u001b[1;33m\u001b[0m\u001b[0m\n\u001b[0;32m     13\u001b[0m \u001b[0mprint\u001b[0m\u001b[1;33m(\u001b[0m\u001b[0mz2_\u001b[0m\u001b[1;33m)\u001b[0m\u001b[1;33m\u001b[0m\u001b[1;33m\u001b[0m\u001b[0m\n",
      "\u001b[1;32m~\\Documents\\argonne\\topology_interface\\topological_diagnosis\\topology_interface_main.py\u001b[0m in \u001b[0;36mget_topology\u001b[1;34m(filename)\u001b[0m\n\u001b[0;32m    401\u001b[0m \u001b[1;33m\u001b[0m\u001b[0m\n\u001b[0;32m    402\u001b[0m     \u001b[1;31m#define hamiltonian, create z2pack system, run calculation\u001b[0m\u001b[1;33m\u001b[0m\u001b[1;33m\u001b[0m\u001b[1;33m\u001b[0m\u001b[0m\n\u001b[1;32m--> 403\u001b[1;33m     \u001b[0msystem\u001b[0m \u001b[1;33m=\u001b[0m \u001b[0mz2pack\u001b[0m\u001b[1;33m.\u001b[0m\u001b[0mhm\u001b[0m\u001b[1;33m.\u001b[0m\u001b[0mSystem\u001b[0m\u001b[1;33m(\u001b[0m\u001b[0mhamiltonian\u001b[0m\u001b[1;33m,\u001b[0m\u001b[0mdim\u001b[0m\u001b[1;33m=\u001b[0m\u001b[0mdim\u001b[0m\u001b[1;33m,\u001b[0m\u001b[0mbands\u001b[0m\u001b[1;33m=\u001b[0m\u001b[0mocc_bands\u001b[0m\u001b[1;33m,\u001b[0m\u001b[0mconvention\u001b[0m\u001b[1;33m=\u001b[0m\u001b[1;36m1\u001b[0m\u001b[1;33m)\u001b[0m\u001b[1;33m\u001b[0m\u001b[1;33m\u001b[0m\u001b[0m\n\u001b[0m\u001b[0;32m    404\u001b[0m     \u001b[1;32mif\u001b[0m \u001b[0mdim\u001b[0m\u001b[1;33m==\u001b[0m\u001b[1;36m2\u001b[0m\u001b[1;33m:\u001b[0m\u001b[1;33m\u001b[0m\u001b[1;33m\u001b[0m\u001b[0m\n\u001b[0;32m    405\u001b[0m         \u001b[1;31m#hamiltonian=haldane_model.test_hamiltonian(0.5, 1., 1. / 3., 0.5 * np.pi)\u001b[0m\u001b[1;33m\u001b[0m\u001b[1;33m\u001b[0m\u001b[1;33m\u001b[0m\u001b[0m\n",
      "\u001b[1;32m~\\AppData\\Roaming\\Python\\Python37\\site-packages\\z2pack\\hm.py\u001b[0m in \u001b[0;36m__init__\u001b[1;34m(self, hamilton, dim, pos, bands, hermitian_tol, convention)\u001b[0m\n\u001b[0;32m     56\u001b[0m             )\n\u001b[0;32m     57\u001b[0m \u001b[1;33m\u001b[0m\u001b[0m\n\u001b[1;32m---> 58\u001b[1;33m         \u001b[0msize\u001b[0m \u001b[1;33m=\u001b[0m \u001b[0mlen\u001b[0m\u001b[1;33m(\u001b[0m\u001b[0mself\u001b[0m\u001b[1;33m.\u001b[0m\u001b[0m_hamilton\u001b[0m\u001b[1;33m(\u001b[0m\u001b[1;33m[\u001b[0m\u001b[1;36m0\u001b[0m\u001b[1;33m]\u001b[0m \u001b[1;33m*\u001b[0m \u001b[0mdim\u001b[0m\u001b[1;33m)\u001b[0m\u001b[1;33m)\u001b[0m  \u001b[1;31m# assuming to be square...\u001b[0m\u001b[1;33m\u001b[0m\u001b[1;33m\u001b[0m\u001b[0m\n\u001b[0m\u001b[0;32m     59\u001b[0m         \u001b[1;31m# add one atom for each orbital in the hamiltonian\u001b[0m\u001b[1;33m\u001b[0m\u001b[1;33m\u001b[0m\u001b[1;33m\u001b[0m\u001b[0m\n\u001b[0;32m     60\u001b[0m         \u001b[1;32mif\u001b[0m \u001b[0mpos\u001b[0m \u001b[1;32mis\u001b[0m \u001b[1;32mNone\u001b[0m\u001b[1;33m:\u001b[0m\u001b[1;33m\u001b[0m\u001b[1;33m\u001b[0m\u001b[0m\n",
      "\u001b[1;32m~\\Documents\\argonne\\topology_interface\\topological_diagnosis\\topology_interface_main.py\u001b[0m in \u001b[0;36mh_k\u001b[1;34m(k)\u001b[0m\n\u001b[0;32m    263\u001b[0m \u001b[1;33m\u001b[0m\u001b[0m\n\u001b[0;32m    264\u001b[0m     \u001b[1;32mdef\u001b[0m \u001b[0mh_k\u001b[0m\u001b[1;33m(\u001b[0m\u001b[0mk\u001b[0m\u001b[1;33m)\u001b[0m\u001b[1;33m:\u001b[0m\u001b[1;33m\u001b[0m\u001b[1;33m\u001b[0m\u001b[0m\n\u001b[1;32m--> 265\u001b[1;33m         \u001b[0mindex\u001b[0m\u001b[1;33m=\u001b[0m\u001b[0mnp\u001b[0m\u001b[1;33m.\u001b[0m\u001b[0margmin\u001b[0m\u001b[1;33m(\u001b[0m\u001b[0mnp\u001b[0m\u001b[1;33m.\u001b[0m\u001b[0mlinalg\u001b[0m\u001b[1;33m.\u001b[0m\u001b[0mnorm\u001b[0m\u001b[1;33m(\u001b[0m\u001b[0mk_vect\u001b[0m\u001b[1;33m-\u001b[0m\u001b[0mk\u001b[0m\u001b[1;33m,\u001b[0m\u001b[0maxis\u001b[0m\u001b[1;33m=\u001b[0m\u001b[1;36m1\u001b[0m\u001b[1;33m)\u001b[0m\u001b[1;33m)\u001b[0m\u001b[1;33m\u001b[0m\u001b[1;33m\u001b[0m\u001b[0m\n\u001b[0m\u001b[0;32m    266\u001b[0m         \u001b[0mh\u001b[0m\u001b[1;33m=\u001b[0m\u001b[0mhamiltonian_data\u001b[0m\u001b[1;33m[\u001b[0m\u001b[0mindex\u001b[0m\u001b[1;33m,\u001b[0m\u001b[1;33m:\u001b[0m\u001b[1;33m,\u001b[0m\u001b[1;33m:\u001b[0m\u001b[1;33m]\u001b[0m\u001b[1;33m\u001b[0m\u001b[1;33m\u001b[0m\u001b[0m\n\u001b[0;32m    267\u001b[0m         \u001b[1;32mreturn\u001b[0m \u001b[0mh\u001b[0m\u001b[1;33m\u001b[0m\u001b[1;33m\u001b[0m\u001b[0m\n",
      "\u001b[1;32m<__array_function__ internals>\u001b[0m in \u001b[0;36mnorm\u001b[1;34m(*args, **kwargs)\u001b[0m\n",
      "\u001b[1;32m~\\AppData\\Roaming\\Python\\Python37\\site-packages\\numpy\\linalg\\linalg.py\u001b[0m in \u001b[0;36mnorm\u001b[1;34m(x, ord, axis, keepdims)\u001b[0m\n\u001b[0;32m   2505\u001b[0m             \u001b[1;31m# special case for speedup\u001b[0m\u001b[1;33m\u001b[0m\u001b[1;33m\u001b[0m\u001b[1;33m\u001b[0m\u001b[0m\n\u001b[0;32m   2506\u001b[0m             \u001b[0ms\u001b[0m \u001b[1;33m=\u001b[0m \u001b[1;33m(\u001b[0m\u001b[0mx\u001b[0m\u001b[1;33m.\u001b[0m\u001b[0mconj\u001b[0m\u001b[1;33m(\u001b[0m\u001b[1;33m)\u001b[0m \u001b[1;33m*\u001b[0m \u001b[0mx\u001b[0m\u001b[1;33m)\u001b[0m\u001b[1;33m.\u001b[0m\u001b[0mreal\u001b[0m\u001b[1;33m\u001b[0m\u001b[1;33m\u001b[0m\u001b[0m\n\u001b[1;32m-> 2507\u001b[1;33m             \u001b[1;32mreturn\u001b[0m \u001b[0msqrt\u001b[0m\u001b[1;33m(\u001b[0m\u001b[0madd\u001b[0m\u001b[1;33m.\u001b[0m\u001b[0mreduce\u001b[0m\u001b[1;33m(\u001b[0m\u001b[0ms\u001b[0m\u001b[1;33m,\u001b[0m \u001b[0maxis\u001b[0m\u001b[1;33m=\u001b[0m\u001b[0maxis\u001b[0m\u001b[1;33m,\u001b[0m \u001b[0mkeepdims\u001b[0m\u001b[1;33m=\u001b[0m\u001b[0mkeepdims\u001b[0m\u001b[1;33m)\u001b[0m\u001b[1;33m)\u001b[0m\u001b[1;33m\u001b[0m\u001b[1;33m\u001b[0m\u001b[0m\n\u001b[0m\u001b[0;32m   2508\u001b[0m         \u001b[1;32melse\u001b[0m\u001b[1;33m:\u001b[0m\u001b[1;33m\u001b[0m\u001b[1;33m\u001b[0m\u001b[0m\n\u001b[0;32m   2509\u001b[0m             \u001b[1;32mtry\u001b[0m\u001b[1;33m:\u001b[0m\u001b[1;33m\u001b[0m\u001b[1;33m\u001b[0m\u001b[0m\n",
      "\u001b[1;31mAxisError\u001b[0m: axis 1 is out of bounds for array of dimension 1"
     ]
    }
   ],
   "source": [
    "input_POSCAR=\"FILENAME\"\n",
    "\n",
    "# kpoints=tim.generate_kpoints(nkx=10,nky=10,nkz=10,max_kx=1,max_ky=1)\n",
    "\n",
    "# #unknown fxns\n",
    "# input_yaehmop_filename=yaehmop_tools.create_yaehmop_from_poscar(input_POSCAR,kpoints)\n",
    "# output_yaehmop_filename=yaehmop_tools.run_yaehmop(input_yaehmop_filename) #subprocess.call(\"bind \"+input_yaehmop_filname)\n",
    "\n",
    "#get topology of Yaehmop output file structure\n",
    "\n",
    "output_yaehmop_filename=\"mp-47.OUT\"\n",
    "c_,z2_= tim.get_topology(output_yaehmop_filename)\n",
    "print(c_)\n",
    "print(z2_)"
   ]
  },
  {
   "cell_type": "code",
   "execution_count": null,
   "metadata": {},
   "outputs": [],
   "source": []
  }
 ],
 "metadata": {
  "kernelspec": {
   "display_name": "Python 3",
   "language": "python",
   "name": "python3"
  },
  "language_info": {
   "codemirror_mode": {
    "name": "ipython",
    "version": 3
   },
   "file_extension": ".py",
   "mimetype": "text/x-python",
   "name": "python",
   "nbconvert_exporter": "python",
   "pygments_lexer": "ipython3",
   "version": "3.7.6"
  }
 },
 "nbformat": 4,
 "nbformat_minor": 4
}
